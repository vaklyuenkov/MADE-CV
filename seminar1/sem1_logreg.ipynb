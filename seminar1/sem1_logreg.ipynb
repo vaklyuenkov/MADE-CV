{
 "cells": [
  {
   "cell_type": "markdown",
   "metadata": {},
   "source": [
    "## Logistic Regression"
   ]
  },
  {
   "cell_type": "markdown",
   "metadata": {},
   "source": [
    "<img src=\"./images/anime.png\" width=\"500\"/>"
   ]
  },
  {
   "cell_type": "markdown",
   "metadata": {},
   "source": [
    "Вычислительный граф для модели логистической регрессии:"
   ]
  },
  {
   "cell_type": "markdown",
   "metadata": {},
   "source": [
    "![caption](./images/graph.png)"
   ]
  },
  {
   "cell_type": "markdown",
   "metadata": {},
   "source": [
    "Алгоритм SGD:"
   ]
  },
  {
   "cell_type": "markdown",
   "metadata": {},
   "source": [
    "0) инициализируем веса  \n",
    "1) сэмплируем batch_size примеров из выборки  \n",
    "2) forward pass: вычисляем значения в узлах вычислительного графа  \n",
    "3) backward pass: считаем градиенты $\\frac{dL}{dw}$ Loss-функции по отношению к параметрам модели  \n",
    "4) обновляем параметры:  \n",
    "$$ w := w - lr*\\frac{dL}{dw} $$  \n",
    "5) Если не выполнен критерий завершения (превышено число итераций / параметры перестали существенно изменяться и т.п.), вернуться на шаг 1  "
   ]
  },
  {
   "cell_type": "markdown",
   "metadata": {},
   "source": [
    "Реализуйте вычисление сигмоиды и постройте ее график в одномерном случае"
   ]
  },
  {
   "cell_type": "code",
   "execution_count": 1,
   "metadata": {
    "collapsed": true
   },
   "outputs": [],
   "source": [
    "import numpy as np\n",
    "import matplotlib.pyplot as plt\n",
    "from mpl_toolkits.mplot3d import Axes3D\n",
    "%matplotlib notebook"
   ]
  },
  {
   "cell_type": "code",
   "execution_count": 40,
   "metadata": {
    "collapsed": true
   },
   "outputs": [],
   "source": [
    "def sigmoid(x):\n",
    "    return 1/(1+np.exp(-x))"
   ]
  },
  {
   "cell_type": "code",
   "execution_count": 41,
   "metadata": {
    "collapsed": false
   },
   "outputs": [
    {
     "data": {
      "image/png": "[encoded data removed]",
      "text/plain": [
       "<Figure size 576x432 with 1 Axes>"
      ]
     },
     "metadata": {
      "needs_background": "light"
     },
     "output_type": "display_data"
    }
   ],
   "source": [
    "plt.figure(figsize=(8, 6))\n",
    "\n",
    "x = np.linspace(-10,10,10000)\n",
    "y = sigmoid(x)\n",
    "\n",
    "plt.plot(x,y)\n",
    "\n",
    "plt.title(\"Sigmoid\")\n",
    "plt.xlabel(\"x\")\n",
    "plt.ylabel(\"y\")\n",
    "plt.show()"
   ]
  },
  {
   "cell_type": "markdown",
   "metadata": {},
   "source": [
    "Реализуйте методы fit, predict, BCE, _init_weights в классе LogisticRegression."
   ]
  },
  {
   "cell_type": "code",
   "execution_count": 312,
   "metadata": {
    "collapsed": true
   },
   "outputs": [],
   "source": [
    "class LogisticRegression:\n",
    "    def __init__(self):\n",
    "        self.w = None\n",
    "        self.b = None\n",
    "        \n",
    "    @staticmethod\n",
    "    def sigmoid(x):\n",
    "        return 1/(1+np.exp(-x))\n",
    "    \n",
    "    @staticmethod\n",
    "    def transform_one_hot(y):\n",
    "        n_classes = max(y)+1 # classes start from 0\n",
    "        one_hot = np.zeros(shape=(y.shape[0], n_classes))\n",
    "        one_hot[tuple((np.arange(y.shape[0]), y))] = 1\n",
    "        y = one_hot\n",
    "        return y\n",
    "    \n",
    "    @staticmethod\n",
    "    def loss( y, y_pred, batch_size, w, decay):\n",
    "        return LogisticRegression.BCE(y, y_pred,batch_size) \\\n",
    "            + 2*(1/batch_size)*decay*np.sum(w*w)*np.ones(batch_size).reshape(batch_size,1)\n",
    "        \n",
    "    @staticmethod\n",
    "    def BCE(y, y_pred, batch_size):\n",
    "        pred = np.maximum(y_pred, 1e-5)\n",
    "        return -1*(1/batch_size)*(y*np.log(pred) + (1-y)*np.log(1-pred)) \n",
    "    \n",
    "    @staticmethod\n",
    "    def sample_batch(X_train, y_train, batch_size):\n",
    "        if batch_size is not None:\n",
    "            rand_idx = np.random.permutation(X_train.shape[0])[:batch_size]\n",
    "            X, y = X_train[rand_idx, ...], y_train[rand_idx, ...]\n",
    "        else:\n",
    "            X, y = X_train, y_train\n",
    "        return X, y\n",
    "    \n",
    "    def fit(self, \n",
    "            X_train, y_train, \n",
    "            iters=10000, \n",
    "            lr_base=0.01, \n",
    "            steps=4, \n",
    "            batch_size=None, \n",
    "            print_freq=20,\n",
    "            decay= 0,\n",
    "            verbose = True):\n",
    "        \n",
    "        \"\"\"\n",
    "        fit model to data\n",
    "        \n",
    "        params:\n",
    "            X_train, y_train - training data. Shapes are:\n",
    "                X_train: (N_samples, N_features),\n",
    "                y_train: (N_samples, N_classes),\n",
    "            iters - number of iterations to train\n",
    "            lr_base - base learning rate\n",
    "            steps - number of steps to drop the LR\n",
    "            batch_size - batch size (== X.shape[0] if None)\n",
    "            weight decay - lambda coefficient for L2 regularization\n",
    "            print_freq - frequency of logging\n",
    "        \"\"\"\n",
    "        \n",
    "        self.N = X_train.shape[0]\n",
    "        self.D = X_train.shape[1]\n",
    "        self.O = y_train.shape[1]\n",
    "        if  self.w is None or \\\n",
    "            self.b is None or \\\n",
    "            self.w.shape != (self.D, self.O) or \\\n",
    "            self.b.shape != (1., self.O):\n",
    "            \n",
    "            self._init_weights(X_train.shape[1], y_train.shape[1])\n",
    "            \n",
    "            #print(f\"w  {self.w} \\n\")\n",
    "        lr = lr_base\n",
    "        \n",
    "        for i in range(iters):\n",
    "            \n",
    "            # sample data\n",
    "            X, y = self.sample_batch(X_train, y_train, batch_size)\n",
    "            \n",
    "            # forward pass\n",
    "            y_pred = self.predict(X)\n",
    "            \n",
    "            # backward pass\n",
    "            loss_ = self.loss(y, y_pred, X.shape[0], self.w, decay)\n",
    "            grad_w = 1/X.shape[0]*((np.dot(X.T, (y_pred-y))) +decay*self.w)\n",
    "            grad_b = 1/X.shape[0]*(np.sum(y_pred-y)) \n",
    "\n",
    "            # update params\n",
    "            self.w = self.w - lr*grad_w\n",
    "            self.b = self.b - lr*grad_b           \n",
    "            \n",
    "            if i%steps == 0:\n",
    "                lr = lr*0.99\n",
    "                \n",
    "            # loging\n",
    "            if i%print_freq == 0 and  verbose:\n",
    "                print(f'iter: {i}, loss: {np.sum(loss_)}, lr: {lr}')\n",
    "        return self\n",
    "    \n",
    "    def predict(self, X):\n",
    "        return self.sigmoid(np.dot(X, self.w) + self.b)\n",
    "    \n",
    "    def _init_weights(self,D,O):\n",
    "        self.w = np.random.rand(D, O)*10\n",
    "        self.b = np.random.rand(1, O)*10"
   ]
  },
  {
   "cell_type": "markdown",
   "metadata": {},
   "source": [
    "Протестируйте обучение модели на простом примере"
   ]
  },
  {
   "cell_type": "code",
   "execution_count": 323,
   "metadata": {
    "collapsed": false
   },
   "outputs": [
    {
     "data": {
      "text/plain": [
       "array([[0.05636223],\n",
       "       [0.99729613],\n",
       "       [0.99075568],\n",
       "       [0.99999849],\n",
       "       [0.99075568]])"
      ]
     },
     "execution_count": 323,
     "metadata": {},
     "output_type": "execute_result"
    }
   ],
   "source": [
    "X = np.array([[0,0],\n",
    "              [0,1],\n",
    "              [1,0],\n",
    "              [1,1]])\n",
    "y = np.array([[0], [1], [1], [1]])\n",
    "\n",
    "\n",
    "model = LogisticRegression()\n",
    "model = LogisticRegression().fit(X, y, iters=10000, decay=0, steps = 1000, verbose=False)\n",
    "\n",
    "\n",
    "X = np.array([[0,0],\n",
    "              [0,1],\n",
    "              [1,0],\n",
    "              [1,1],\n",
    "              [1,0]])\n",
    "\n",
    "model.predict(X)"
   ]
  },
  {
   "cell_type": "markdown",
   "metadata": {},
   "source": [
    "Протестируйте обучение модели на другом примере."
   ]
  },
  {
   "cell_type": "code",
   "execution_count": 332,
   "metadata": {
    "collapsed": true
   },
   "outputs": [
    {
     "data": {
      "text/plain": [
       "array([[0.49999997],\n",
       "       [0.5       ],\n",
       "       [0.5       ],\n",
       "       [0.50000002]])"
      ]
     },
     "execution_count": 332,
     "metadata": {},
     "output_type": "execute_result"
    }
   ],
   "source": [
    "X = np.array([[0,0],\n",
    "              [0,1],\n",
    "              [1,0],\n",
    "              [1,1]])\n",
    "y = np.array([[0], [1], [1], [0]])\n",
    "\n",
    "model = LogisticRegression()\n",
    "model = LogisticRegression().fit(X, y, iters=50000, decay=0.000,steps = 100, verbose=False)\n",
    "\n",
    "model.predict(X)\n"
   ]
  },
  {
   "cell_type": "markdown",
   "metadata": {},
   "source": [
    "Каким получается качество? Почему так происходит?"
   ]
  },
  {
   "cell_type": "markdown",
   "metadata": {},
   "source": [
    "## Боевое применение "
   ]
  },
  {
   "cell_type": "markdown",
   "metadata": {},
   "source": [
    "Протестируйте написанную вами модель логистической регрессии на датасете для классификации ирисов. Подробнее об этом датасете: https://ru.wikipedia.org/wiki/%D0%98%D1%80%D0%B8%D1%81%D1%8B_%D0%A4%D0%B8%D1%88%D0%B5%D1%80%D0%B0"
   ]
  },
  {
   "cell_type": "code",
   "execution_count": 198,
   "metadata": {
    "collapsed": true
   },
   "outputs": [],
   "source": [
    "from sklearn.datasets import load_iris\n",
    "from sklearn.model_selection import train_test_split"
   ]
  },
  {
   "cell_type": "markdown",
   "metadata": {},
   "source": [
    "Разделим данные на обучающую и валидационную выборку. Сконвертируем y в формат one_hot_encoding и обучим модель."
   ]
  },
  {
   "cell_type": "code",
   "execution_count": 347,
   "metadata": {
    "collapsed": false
   },
   "outputs": [
    {
     "name": "stdout",
     "output_type": "stream",
     "text": [
      "(150, 4) (150, 3) 0.0 1.0\n"
     ]
    }
   ],
   "source": [
    "X, y = load_iris(return_X_y=True)\n",
    "# make y one-hot encoded:\n",
    "y = LogisticRegression.transform_one_hot(y)\n",
    "print(X.shape, y.shape, y.min(), y.max())\n",
    "X_train, X_val, y_train, y_val = train_test_split(X, y, random_state=1, test_size=0.25)"
   ]
  },
  {
   "cell_type": "code",
   "execution_count": 415,
   "metadata": {
    "collapsed": false
   },
   "outputs": [
    {
     "name": "stderr",
     "output_type": "stream",
     "text": [
      "/home/w/anaconda3/lib/python3.6/site-packages/ipykernel_launcher.py:26: RuntimeWarning: divide by zero encountered in log\n",
      "/home/w/anaconda3/lib/python3.6/site-packages/ipykernel_launcher.py:26: RuntimeWarning: invalid value encountered in multiply\n"
     ]
    },
    {
     "name": "stdout",
     "output_type": "stream",
     "text": [
      "iter: 0, loss: nan, lr: 0.0999\n",
      "iter: 1000, loss: 0.6016933068211268, lr: 0.09890548353295386\n",
      "iter: 2000, loss: 0.8048972227010577, lr: 0.09792086759647052\n",
      "iter: 3000, loss: 0.5994194259370615, lr: 0.09694605362958227\n",
      "iter: 4000, loss: 0.5624534671707753, lr: 0.0959809440525076\n",
      "iter: 5000, loss: 0.7231258633260892, lr: 0.09502544225688342\n",
      "iter: 6000, loss: 0.5574802370749361, lr: 0.09407945259609449\n",
      "iter: 7000, loss: 0.6118579864032394, lr: 0.09314288037569907\n",
      "iter: 8000, loss: 0.5909278903732742, lr: 0.0922156318439499\n",
      "iter: 9000, loss: 0.4055947528203504, lr: 0.09129761418240961\n"
     ]
    },
    {
     "data": {
      "text/plain": [
       "<__main__.LogisticRegression at 0x7f2752bc1dd8>"
      ]
     },
     "execution_count": 415,
     "metadata": {},
     "output_type": "execute_result"
    }
   ],
   "source": [
    "model = LogisticRegression()\n",
    "model.fit(X_train, y_train, \n",
    "         lr_base=0.1,\n",
    "         decay=0,\n",
    "         iters=10000,\n",
    "         steps = 100, \n",
    "         print_freq =1000,\n",
    "         batch_size=32)"
   ]
  },
  {
   "cell_type": "markdown",
   "metadata": {},
   "source": [
    "Подсчитаем точность. Постарайтесь сделать так, чтобы точность была не ниже 85 %. Возможно понадобится покрутить параметры модели (или починить баги :)"
   ]
  },
  {
   "cell_type": "code",
   "execution_count": 416,
   "metadata": {
    "collapsed": false
   },
   "outputs": [
    {
     "name": "stdout",
     "output_type": "stream",
     "text": [
      "model accuracy: 0.9473684210526316\n"
     ]
    }
   ],
   "source": [
    "pred_val = model.predict(X_val).argmax(axis=1)\n",
    "gt_val = y_val.argmax(axis=1)\n",
    "acc = 1 - (pred_val != gt_val).sum() / y_val.shape[0]\n",
    "print(\"model accuracy:\", acc)"
   ]
  },
  {
   "cell_type": "markdown",
   "metadata": {},
   "source": [
    "## Визуализация "
   ]
  },
  {
   "cell_type": "markdown",
   "metadata": {},
   "source": [
    "Визуализируйте разделяющую плоскость. Тестируйте на двумерных синтетических данных для простоты дебага и визуализации."
   ]
  },
  {
   "cell_type": "code",
   "execution_count": 401,
   "metadata": {
    "collapsed": false
   },
   "outputs": [
    {
     "name": "stderr",
     "output_type": "stream",
     "text": [
      "/home/w/anaconda3/lib/python3.6/site-packages/ipykernel_launcher.py:26: RuntimeWarning: divide by zero encountered in log\n",
      "/home/w/anaconda3/lib/python3.6/site-packages/ipykernel_launcher.py:26: RuntimeWarning: invalid value encountered in multiply\n"
     ]
    },
    {
     "name": "stdout",
     "output_type": "stream",
     "text": [
      "iter: 0, loss: nan, lr: 0.00999\n",
      "iter: 20, loss: nan, lr: 0.00999\n",
      "iter: 40, loss: nan, lr: 0.00999\n",
      "iter: 60, loss: nan, lr: 0.00999\n",
      "iter: 80, loss: nan, lr: 0.00999\n",
      "iter: 100, loss: nan, lr: 0.00999\n",
      "iter: 120, loss: nan, lr: 0.00999\n",
      "iter: 140, loss: nan, lr: 0.00999\n",
      "iter: 160, loss: nan, lr: 0.00999\n",
      "iter: 180, loss: nan, lr: 0.00999\n",
      "iter: 200, loss: nan, lr: 0.00999\n",
      "iter: 220, loss: nan, lr: 0.00999\n",
      "iter: 240, loss: nan, lr: 0.00999\n",
      "iter: 260, loss: nan, lr: 0.00999\n",
      "iter: 280, loss: nan, lr: 0.00999\n",
      "iter: 300, loss: nan, lr: 0.00999\n",
      "iter: 320, loss: nan, lr: 0.00999\n",
      "iter: 340, loss: nan, lr: 0.00999\n",
      "iter: 360, loss: nan, lr: 0.00999\n",
      "iter: 380, loss: nan, lr: 0.00999\n",
      "iter: 400, loss: nan, lr: 0.00999\n",
      "iter: 420, loss: nan, lr: 0.00999\n",
      "iter: 440, loss: nan, lr: 0.00999\n",
      "iter: 460, loss: nan, lr: 0.00999\n",
      "iter: 480, loss: nan, lr: 0.00999\n",
      "iter: 500, loss: nan, lr: 0.00999\n",
      "iter: 520, loss: nan, lr: 0.00999\n",
      "iter: 540, loss: nan, lr: 0.00999\n",
      "iter: 560, loss: nan, lr: 0.00999\n",
      "iter: 580, loss: nan, lr: 0.00999\n",
      "iter: 600, loss: nan, lr: 0.00999\n",
      "iter: 620, loss: nan, lr: 0.00999\n",
      "iter: 640, loss: nan, lr: 0.00999\n",
      "iter: 660, loss: nan, lr: 0.00999\n",
      "iter: 680, loss: nan, lr: 0.00999\n",
      "iter: 700, loss: nan, lr: 0.00999\n",
      "iter: 720, loss: 2.456342987434693, lr: 0.00999\n",
      "iter: 740, loss: 2.431308705235269, lr: 0.00999\n",
      "iter: 760, loss: 2.4065451256263612, lr: 0.00999\n",
      "iter: 780, loss: 2.3818801137716687, lr: 0.00999\n",
      "iter: 800, loss: 2.3574609791882697, lr: 0.00999\n",
      "iter: 820, loss: 2.3332728331769297, lr: 0.00999\n",
      "iter: 840, loss: 2.3092976777674687, lr: 0.00999\n",
      "iter: 860, loss: 2.285519118938886, lr: 0.00999\n",
      "iter: 880, loss: 2.261922339449777, lr: 0.00999\n",
      "iter: 900, loss: 2.238493987212639, lr: 0.00999\n",
      "iter: 920, loss: 2.2152220446498023, lr: 0.00999\n",
      "iter: 940, loss: 2.191935798239796, lr: 0.00999\n",
      "iter: 960, loss: 2.1686036569662375, lr: 0.00999\n",
      "iter: 980, loss: 2.1451519822528717, lr: 0.00999\n",
      "iter: 1000, loss: 2.1216458141806425, lr: 0.00999\n",
      "iter: 1020, loss: 2.0980819635889683, lr: 0.00999\n",
      "iter: 1040, loss: 2.0740462411902696, lr: 0.00999\n",
      "iter: 1060, loss: 2.0500368800613513, lr: 0.00999\n",
      "iter: 1080, loss: 2.026108431716455, lr: 0.00999\n",
      "iter: 1100, loss: 2.002258421514566, lr: 0.00999\n",
      "iter: 1120, loss: 1.9784848717309318, lr: 0.00999\n",
      "iter: 1140, loss: 1.9547862451301676, lr: 0.00999\n",
      "iter: 1160, loss: 1.9311614121554623, lr: 0.00999\n",
      "iter: 1180, loss: 1.9076095897640513, lr: 0.00999\n",
      "iter: 1200, loss: 1.8841303347304081, lr: 0.00999\n",
      "iter: 1220, loss: 1.860723507862748, lr: 0.00999\n",
      "iter: 1240, loss: 1.8373892522631734, lr: 0.00999\n",
      "iter: 1260, loss: 1.8139827658578684, lr: 0.00999\n",
      "iter: 1280, loss: 1.790373839954367, lr: 0.00999\n",
      "iter: 1300, loss: 1.7668380291146182, lr: 0.00999\n",
      "iter: 1320, loss: 1.743376589636373, lr: 0.00999\n",
      "iter: 1340, loss: 1.7197465630990207, lr: 0.00999\n",
      "iter: 1360, loss: 1.6959957104763266, lr: 0.00999\n",
      "iter: 1380, loss: 1.672323544651989, lr: 0.00999\n",
      "iter: 1400, loss: 1.6487321613090842, lr: 0.00999\n",
      "iter: 1420, loss: 1.6252238107958394, lr: 0.00999\n",
      "iter: 1440, loss: 1.6018008974026343, lr: 0.00999\n",
      "iter: 1460, loss: 1.5784659749602907, lr: 0.00999\n",
      "iter: 1480, loss: 1.5552217512503128, lr: 0.00999\n",
      "iter: 1500, loss: 1.5320710888627302, lr: 0.00999\n",
      "iter: 1520, loss: 1.5089697959633661, lr: 0.00999\n",
      "iter: 1540, loss: 1.485498141360289, lr: 0.00999\n",
      "iter: 1560, loss: 1.462130141410137, lr: 0.00999\n",
      "iter: 1580, loss: 1.438869390322369, lr: 0.00999\n",
      "iter: 1600, loss: 1.4157196483912928, lr: 0.00999\n",
      "iter: 1620, loss: 1.3926848543297752, lr: 0.00999\n",
      "iter: 1640, loss: 1.3697691384375812, lr: 0.00999\n",
      "iter: 1660, loss: 1.346907290454804, lr: 0.00999\n",
      "iter: 1680, loss: 1.3236823386156311, lr: 0.00999\n",
      "iter: 1700, loss: 1.3005912971690232, lr: 0.00999\n",
      "iter: 1720, loss: 1.2776391807574887, lr: 0.00999\n",
      "iter: 1740, loss: 1.2548312187604749, lr: 0.00999\n",
      "iter: 1760, loss: 1.2320227708202733, lr: 0.00999\n",
      "iter: 1780, loss: 1.2089376488572987, lr: 0.00999\n",
      "iter: 1800, loss: 1.1860157030674625, lr: 0.00999\n",
      "iter: 1820, loss: 1.1632632673479346, lr: 0.00999\n",
      "iter: 1840, loss: 1.1406869544125273, lr: 0.00999\n",
      "iter: 1860, loss: 1.1182936715735536, lr: 0.00999\n",
      "iter: 1880, loss: 1.0960906343854995, lr: 0.00999\n",
      "iter: 1900, loss: 1.0740853767784664, lr: 0.00999\n",
      "iter: 1920, loss: 1.0522857656542624, lr: 0.00999\n",
      "iter: 1940, loss: 1.0307000125859052, lr: 0.00999\n",
      "iter: 1960, loss: 1.009336664823579, lr: 0.00999\n",
      "iter: 1980, loss: 0.9882046407661007, lr: 0.00999\n",
      "iter: 2000, loss: 0.9673132150573811, lr: 0.00999\n",
      "iter: 2020, loss: 0.9466720379207028, lr: 0.00999\n",
      "iter: 2040, loss: 0.9262911366080199, lr: 0.00999\n",
      "iter: 2060, loss: 0.9061809103693321, lr: 0.00999\n",
      "iter: 2080, loss: 0.8863521303371901, lr: 0.00999\n",
      "iter: 2100, loss: 0.8668159281745631, lr: 0.00999\n",
      "iter: 2120, loss: 0.847583781635127, lr: 0.00999\n",
      "iter: 2140, loss: 0.8286675018823063, lr: 0.00999\n",
      "iter: 2160, loss: 0.8100792133076482, lr: 0.00999\n",
      "iter: 2180, loss: 0.7918313052911553, lr: 0.00999\n",
      "iter: 2200, loss: 0.7739364112921434, lr: 0.00999\n",
      "iter: 2220, loss: 0.7564073467033539, lr: 0.00999\n",
      "iter: 2240, loss: 0.7392570505248919, lr: 0.00999\n",
      "iter: 2260, loss: 0.7224985205983174, lr: 0.00999\n",
      "iter: 2280, loss: 0.7061447288044564, lr: 0.00999\n",
      "iter: 2300, loss: 0.690208526534155, lr: 0.00999\n",
      "iter: 2320, loss: 0.674702537240647, lr: 0.00999\n",
      "iter: 2340, loss: 0.6596390358960806, lr: 0.00999\n",
      "iter: 2360, loss: 0.6450298155579071, lr: 0.00999\n",
      "iter: 2380, loss: 0.6308860417366553, lr: 0.00999\n",
      "iter: 2400, loss: 0.617218095847722, lr: 0.00999\n",
      "iter: 2420, loss: 0.6040354097203261, lr: 0.00999\n",
      "iter: 2440, loss: 0.5913462939091113, lr: 0.00999\n",
      "iter: 2460, loss: 0.5791577633763338, lr: 0.00999\n",
      "iter: 2480, loss: 0.5674753649376765, lr: 0.00999\n",
      "iter: 2500, loss: 0.556303011629447, lr: 0.00999\n",
      "iter: 2520, loss: 0.545642829783233, lr: 0.00999\n",
      "iter: 2540, loss: 0.5354950250023734, lr: 0.00999\n",
      "iter: 2560, loss: 0.5258577733402994, lr: 0.00999\n",
      "iter: 2580, loss: 0.5167271437130112, lr: 0.00999\n",
      "iter: 2600, loss: 0.5080970568900334, lr: 0.00999\n",
      "iter: 2620, loss: 0.49995928528882244, lr: 0.00999\n",
      "iter: 2640, loss: 0.4923034962796049, lr: 0.00999\n",
      "iter: 2660, loss: 0.4851173398709798, lr: 0.00999\n",
      "iter: 2680, loss: 0.4783865796147606, lr: 0.00999\n",
      "iter: 2700, loss: 0.47209526349722786, lr: 0.00999\n",
      "iter: 2720, loss: 0.46622592964385, lr: 0.00999\n",
      "iter: 2740, loss: 0.4607598400199724, lr: 0.00999\n",
      "iter: 2760, loss: 0.4556772340978794, lr: 0.00999\n",
      "iter: 2780, loss: 0.4509575937729677, lr: 0.00999\n",
      "iter: 2800, loss: 0.44657991068506486, lr: 0.00999\n",
      "iter: 2820, loss: 0.44252294751428134, lr: 0.00999\n",
      "iter: 2840, loss: 0.4387654857023294, lr: 0.00999\n",
      "iter: 2860, loss: 0.43528655329024424, lr: 0.00999\n",
      "iter: 2880, loss: 0.4320656280311456, lr: 0.00999\n",
      "iter: 2900, loss: 0.4290828124977189, lr: 0.00999\n",
      "iter: 2920, loss: 0.4263189794356496, lr: 0.00999\n",
      "iter: 2940, loss: 0.42375588701607625, lr: 0.00999\n",
      "iter: 2960, loss: 0.4213762648406564, lr: 0.00999\n",
      "iter: 2980, loss: 0.4191638725105271, lr: 0.00999\n",
      "iter: 3000, loss: 0.4171035332713473, lr: 0.00999\n",
      "iter: 3020, loss: 0.4151811456994192, lr: 0.00999\n",
      "iter: 3040, loss: 0.4133836766237145, lr: 0.00999\n",
      "iter: 3060, loss: 0.41169913852073886, lr: 0.00999\n",
      "iter: 3080, loss: 0.4101165545133138, lr: 0.00999\n",
      "iter: 3100, loss: 0.40862591389036285, lr: 0.00999\n",
      "iter: 3120, loss: 0.4072181207793184, lr: 0.00999\n",
      "iter: 3140, loss: 0.40588493827742056, lr: 0.00999\n",
      "iter: 3160, loss: 0.4046189300085594, lr: 0.00999\n",
      "iter: 3180, loss: 0.40341340073796356, lr: 0.00999\n",
      "iter: 3200, loss: 0.40226233736182315, lr: 0.00999\n",
      "iter: 3220, loss: 0.4011603513018637, lr: 0.00999\n",
      "iter: 3240, loss: 0.4001026230809215, lr: 0.00999\n",
      "iter: 3260, loss: 0.39908484963660873, lr: 0.00999\n",
      "iter: 3280, loss: 0.398103194745804, lr: 0.00999\n",
      "iter: 3300, loss: 0.39715424278101846, lr: 0.00999\n",
      "iter: 3320, loss: 0.3962349558977856, lr: 0.00999\n",
      "iter: 3340, loss: 0.3953426346566755, lr: 0.00999\n",
      "iter: 3360, loss: 0.3944748820107764, lr: 0.00999\n",
      "iter: 3380, loss: 0.39362957053599673, lr: 0.00999\n",
      "iter: 3400, loss: 0.39280481274402806, lr: 0.00999\n",
      "iter: 3420, loss: 0.3919989342932795, lr: 0.00999\n",
      "iter: 3440, loss: 0.39121044989892095, lr: 0.00999\n",
      "iter: 3460, loss: 0.3904380417370823, lr: 0.00999\n",
      "iter: 3480, loss: 0.38968054013832265, lr: 0.00999\n",
      "iter: 3500, loss: 0.3889369063701239, lr: 0.00999\n",
      "iter: 3520, loss: 0.388206217316063, lr: 0.00999\n",
      "iter: 3540, loss: 0.387487651869437, lr: 0.00999\n",
      "iter: 3560, loss: 0.38678047887062356, lr: 0.00999\n",
      "iter: 3580, loss: 0.3860840464297154, lr: 0.00999\n",
      "iter: 3600, loss: 0.3853977724884821, lr: 0.00999\n",
      "iter: 3620, loss: 0.38472113648812345, lr: 0.00999\n",
      "iter: 3640, loss: 0.38405367202131946, lr: 0.00999\n",
      "iter: 3660, loss: 0.3833949603585797, lr: 0.00999\n",
      "iter: 3680, loss: 0.38274462474972093, lr: 0.00999\n",
      "iter: 3700, loss: 0.3821023254113995, lr: 0.00999\n",
      "iter: 3720, loss: 0.3814677551209458, lr: 0.00999\n",
      "iter: 3740, loss: 0.38084063534530876, lr: 0.00999\n",
      "iter: 3760, loss: 0.38022071284171044, lr: 0.00999\n",
      "iter: 3780, loss: 0.3796077566736835, lr: 0.00999\n",
      "iter: 3800, loss: 0.37900155559254634, lr: 0.00999\n",
      "iter: 3820, loss: 0.37840191574010584, lr: 0.00999\n",
      "iter: 3840, loss: 0.37780865863351865, lr: 0.00999\n",
      "iter: 3860, loss: 0.3772216193978321, lr: 0.00999\n",
      "iter: 3880, loss: 0.37664064521581636, lr: 0.00999\n",
      "iter: 3900, loss: 0.37606559396833206, lr: 0.00999\n",
      "iter: 3920, loss: 0.3754963330417023, lr: 0.00999\n",
      "iter: 3940, loss: 0.37493273828141044, lr: 0.00999\n",
      "iter: 3960, loss: 0.3743746930739665, lr: 0.00999\n",
      "iter: 3980, loss: 0.3738220875410112, lr: 0.00999\n",
      "iter: 4000, loss: 0.37327481783168576, lr: 0.00999\n",
      "iter: 4020, loss: 0.37273278550102484, lr: 0.00999\n",
      "iter: 4040, loss: 0.37219589696364386, lr: 0.00999\n",
      "iter: 4060, loss: 0.37166406301333177, lr: 0.00999\n",
      "iter: 4080, loss: 0.37113719840032444, lr: 0.00999\n",
      "iter: 4100, loss: 0.3706152214590662, lr: 0.00999\n",
      "iter: 4120, loss: 0.37009805378016514, lr: 0.00999\n",
      "iter: 4140, loss: 0.3695856199210365, lr: 0.00999\n",
      "iter: 4160, loss: 0.3690778471504209, lr: 0.00999\n",
      "iter: 4180, loss: 0.3685746652225672, lr: 0.00999\n",
      "iter: 4200, loss: 0.3680760061773992, lr: 0.00999\n",
      "iter: 4220, loss: 0.3675818041634502, lr: 0.00999\n",
      "iter: 4240, loss: 0.3670919952807506, lr: 0.00999\n",
      "iter: 4260, loss: 0.3666065174412105, lr: 0.00999\n",
      "iter: 4280, loss: 0.36612531024434775, lr: 0.00999\n",
      "iter: 4300, loss: 0.3656483148664806, lr: 0.00999\n",
      "iter: 4320, loss: 0.3651754739617433, lr: 0.00999\n",
      "iter: 4340, loss: 0.36470673157348577, lr: 0.00999\n",
      "iter: 4360, loss: 0.3642420330548012, lr: 0.00999\n",
      "iter: 4380, loss: 0.3637813249970825, lr: 0.00999\n",
      "iter: 4400, loss: 0.3633245551656451, lr: 0.00999\n",
      "iter: 4420, loss: 0.36287167244157403, lr: 0.00999\n",
      "iter: 4440, loss: 0.36242262676906023, lr: 0.00999\n",
      "iter: 4460, loss: 0.36197736910757794, lr: 0.00999\n",
      "iter: 4480, loss: 0.3615358513883421, lr: 0.00999\n",
      "iter: 4500, loss: 0.3610980264745471, lr: 0.00999\n",
      "iter: 4520, loss: 0.36066384812495556, lr: 0.00999\n",
      "iter: 4540, loss: 0.3602332709604561, lr: 0.00999\n",
      "iter: 4560, loss: 0.3598062504332559, lr: 0.00999\n",
      "iter: 4580, loss: 0.35938274279841687, lr: 0.00999\n",
      "iter: 4600, loss: 0.35896270508747596, lr: 0.00999\n",
      "iter: 4620, loss: 0.35854609508392743, lr: 0.00999\n",
      "iter: 4640, loss: 0.3581328713003649, lr: 0.00999\n",
      "iter: 4660, loss: 0.3577229929571115, lr: 0.00999\n",
      "iter: 4680, loss: 0.35731641996218294, lr: 0.00999\n",
      "iter: 4700, loss: 0.35691311289244926, lr: 0.00999\n",
      "iter: 4720, loss: 0.35651303297587555, lr: 0.00999\n",
      "iter: 4740, loss: 0.3561161420747364, lr: 0.00999\n",
      "iter: 4760, loss: 0.35572240266971217, lr: 0.00999\n",
      "iter: 4780, loss: 0.3553317778447831, lr: 0.00999\n",
      "iter: 4800, loss: 0.3549442312728519, lr: 0.00999\n",
      "iter: 4820, loss: 0.354559727202027, lr: 0.00999\n",
      "iter: 4840, loss: 0.3541782304425116, lr: 0.00999\n",
      "iter: 4860, loss: 0.35379970635404856, lr: 0.00999\n",
      "iter: 4880, loss: 0.3534241208338733, lr: 0.00999\n",
      "iter: 4900, loss: 0.3530514403051388, lr: 0.00999\n",
      "iter: 4920, loss: 0.3526816317057727, lr: 0.00999\n",
      "iter: 4940, loss: 0.35231466247773857, lr: 0.00999\n",
      "iter: 4960, loss: 0.3519505005566699, lr: 0.00999\n",
      "iter: 4980, loss: 0.3515891143618529, lr: 0.00999\n",
      "iter: 5000, loss: 0.3512304727865355, lr: 0.00999\n",
      "iter: 5020, loss: 0.3508745451885401, lr: 0.00999\n",
      "iter: 5040, loss: 0.35052130138116394, lr: 0.00999\n",
      "iter: 5060, loss: 0.35017071162434826, lr: 0.00999\n",
      "iter: 5080, loss: 0.3498227466161025, lr: 0.00999\n",
      "iter: 5100, loss: 0.34947737748416924, lr: 0.00999\n",
      "iter: 5120, loss: 0.3491345757779172, lr: 0.00999\n",
      "iter: 5140, loss: 0.3487943134604513, lr: 0.00999\n",
      "iter: 5160, loss: 0.3484565629009296, lr: 0.00999\n",
      "iter: 5180, loss: 0.34812129686707627, lr: 0.00999\n",
      "iter: 5200, loss: 0.34778848851788385, lr: 0.00999\n",
      "iter: 5220, loss: 0.3474581113964952, lr: 0.00999\n",
      "iter: 5240, loss: 0.34713013942325804, lr: 0.00999\n",
      "iter: 5260, loss: 0.3468045468889459, lr: 0.00999\n",
      "iter: 5280, loss: 0.346481308448138, lr: 0.00999\n",
      "iter: 5300, loss: 0.3461603991127532, lr: 0.00999\n",
      "iter: 5320, loss: 0.3458417942457318, lr: 0.00999\n",
      "iter: 5340, loss: 0.3455254695548601, lr: 0.00999\n",
      "iter: 5360, loss: 0.34521140108673326, lr: 0.00999\n",
      "iter: 5380, loss: 0.3448995652208512, lr: 0.00999\n",
      "iter: 5400, loss: 0.3445899386638446, lr: 0.00999\n",
      "iter: 5420, loss: 0.34428249844382475, lr: 0.00999\n",
      "iter: 5440, loss: 0.34397722190485636, lr: 0.00999\n",
      "iter: 5460, loss: 0.34367408670154653, lr: 0.00999\n",
      "iter: 5480, loss: 0.343373070793749, lr: 0.00999\n",
      "iter: 5500, loss: 0.3430741524413793, lr: 0.00999\n",
      "iter: 5520, loss: 0.3427773101993373, lr: 0.00999\n",
      "iter: 5540, loss: 0.3424825229125359, lr: 0.00999\n",
      "iter: 5560, loss: 0.3421897697110302, lr: 0.00999\n",
      "iter: 5580, loss: 0.34189903000524724, lr: 0.00999\n",
      "iter: 5600, loss: 0.3416102834813125, lr: 0.00999\n",
      "iter: 5620, loss: 0.34132351009647005, lr: 0.00999\n",
      "iter: 5640, loss: 0.3410386900745951, lr: 0.00999\n",
      "iter: 5660, loss: 0.34075580390179616, lr: 0.00999\n",
      "iter: 5680, loss: 0.34047483232210407, lr: 0.00999\n",
      "iter: 5700, loss: 0.3401957563332468, lr: 0.00999\n",
      "iter: 5720, loss: 0.33991855718250713, lr: 0.00999\n",
      "iter: 5740, loss: 0.3396432163626615, lr: 0.00999\n",
      "iter: 5760, loss: 0.3393697156079979, lr: 0.00999\n",
      "iter: 5780, loss: 0.3390980368904115, lr: 0.00999\n",
      "iter: 5800, loss: 0.3388281624155752, lr: 0.00999\n",
      "iter: 5820, loss: 0.3385600746191845, lr: 0.00999\n",
      "iter: 5840, loss: 0.33829375616327434, lr: 0.00999\n",
      "iter: 5860, loss: 0.33802918993260567, lr: 0.00999\n",
      "iter: 5880, loss: 0.33776635903112207, lr: 0.00999\n",
      "iter: 5900, loss: 0.3375052467784721, lr: 0.00999\n",
      "iter: 5920, loss: 0.33724583670659897, lr: 0.00999\n",
      "iter: 5940, loss: 0.3369881125563931, lr: 0.00999\n",
      "iter: 5960, loss: 0.33673205827440855, lr: 0.00999\n",
      "iter: 5980, loss: 0.33647765800963997, lr: 0.00999\n",
      "iter: 6000, loss: 0.3362248961103605, lr: 0.00999\n",
      "iter: 6020, loss: 0.33597375712101796, lr: 0.00999\n",
      "iter: 6040, loss: 0.3357242257791887, lr: 0.00999\n",
      "iter: 6060, loss: 0.3354762870125877, lr: 0.00999\n",
      "iter: 6080, loss: 0.33522992593613343, lr: 0.00999\n",
      "iter: 6100, loss: 0.3349851278490672, lr: 0.00999\n",
      "iter: 6120, loss: 0.33474187823212453, lr: 0.00999\n",
      "iter: 6140, loss: 0.3345001627447587, lr: 0.00999\n",
      "iter: 6160, loss: 0.3342599672224141, lr: 0.00999\n",
      "iter: 6180, loss: 0.33402127767384987, lr: 0.00999\n",
      "iter: 6200, loss: 0.33378408027851103, lr: 0.00999\n",
      "iter: 6220, loss: 0.33354836138394767, lr: 0.00999\n",
      "iter: 6240, loss: 0.33331410750328017, lr: 0.00999\n",
      "iter: 6260, loss: 0.33308130531270963, lr: 0.00999\n",
      "iter: 6280, loss: 0.33284994164907356, lr: 0.00999\n",
      "iter: 6300, loss: 0.33262000350744414, lr: 0.00999\n",
      "iter: 6320, loss: 0.33239147803876984, lr: 0.00999\n",
      "iter: 6340, loss: 0.33216435254755816, lr: 0.00999\n",
      "iter: 6360, loss: 0.3319386144896, lr: 0.00999\n",
      "iter: 6380, loss: 0.3317142514697338, lr: 0.00999\n",
      "iter: 6400, loss: 0.33149125123964884, lr: 0.00999\n",
      "iter: 6420, loss: 0.3312696016957265, lr: 0.00999\n",
      "iter: 6440, loss: 0.33104929087692087, lr: 0.00999\n",
      "iter: 6460, loss: 0.3308303069626741, lr: 0.00999\n",
      "iter: 6480, loss: 0.3306126382708698, lr: 0.00999\n",
      "iter: 6500, loss: 0.33039627325582055, lr: 0.00999\n",
      "iter: 6520, loss: 0.3301812005062912, lr: 0.00999\n",
      "iter: 6540, loss: 0.3299674087435551, lr: 0.00999\n",
      "iter: 6560, loss: 0.32975488681948506, lr: 0.00999\n",
      "iter: 6580, loss: 0.32954362371467566, lr: 0.00999\n",
      "iter: 6600, loss: 0.3293336085365987, lr: 0.00999\n",
      "iter: 6620, loss: 0.32912483051778946, lr: 0.00999\n",
      "iter: 6640, loss: 0.32891727901406365, lr: 0.00999\n",
      "iter: 6660, loss: 0.3287109435027654, lr: 0.00999\n",
      "iter: 6680, loss: 0.3285058135810442, lr: 0.00999\n",
      "iter: 6700, loss: 0.32830187896416074, lr: 0.00999\n",
      "iter: 6720, loss: 0.3280991294838215, lr: 0.00999\n",
      "iter: 6740, loss: 0.3278975550865418, lr: 0.00999\n",
      "iter: 6760, loss: 0.327697145832035, lr: 0.00999\n",
      "iter: 6780, loss: 0.3274978918916297, lr: 0.00999\n",
      "iter: 6800, loss: 0.3272997835467125, lr: 0.00999\n",
      "iter: 6820, loss: 0.32710281118719714, lr: 0.00999\n",
      "iter: 6840, loss: 0.32690696531001867, lr: 0.00999\n",
      "iter: 6860, loss: 0.32671223651765247, lr: 0.00999\n",
      "iter: 6880, loss: 0.32651861551665773, lr: 0.00999\n",
      "iter: 6900, loss: 0.32632609311624494, lr: 0.00999\n",
      "iter: 6920, loss: 0.3261346602268665, lr: 0.00999\n",
      "iter: 6940, loss: 0.3259443078588308, lr: 0.00999\n",
      "iter: 6960, loss: 0.3257550271209384, lr: 0.00999\n",
      "iter: 6980, loss: 0.32556680921914094, lr: 0.00999\n",
      "iter: 7000, loss: 0.32537964545522136, lr: 0.00999\n",
      "iter: 7020, loss: 0.32519352722549516, lr: 0.00999\n",
      "iter: 7040, loss: 0.3250084460195336, lr: 0.00999\n",
      "iter: 7060, loss: 0.32482439341890657, lr: 0.00999\n",
      "iter: 7080, loss: 0.3246413610959459, lr: 0.00999\n",
      "iter: 7100, loss: 0.3244593408125282, lr: 0.00999\n",
      "iter: 7120, loss: 0.32427832441887794, lr: 0.00999\n",
      "iter: 7140, loss: 0.3240983038523888, lr: 0.00999\n",
      "iter: 7160, loss: 0.32391927113646357, lr: 0.00999\n",
      "iter: 7180, loss: 0.3237412183793735, lr: 0.00999\n",
      "iter: 7200, loss: 0.32356413777313436, lr: 0.00999\n",
      "iter: 7220, loss: 0.3233880215924015, lr: 0.00999\n",
      "iter: 7240, loss: 0.3232128621933811, lr: 0.00999\n",
      "iter: 7260, loss: 0.3230386520127593, lr: 0.00999\n",
      "iter: 7280, loss: 0.3228653835666478, lr: 0.00999\n",
      "iter: 7300, loss: 0.3226930494495459, lr: 0.00999\n",
      "iter: 7320, loss: 0.3225216423333188, lr: 0.00999\n",
      "iter: 7340, loss: 0.3223511549661917, lr: 0.00999\n",
      "iter: 7360, loss: 0.3221815801717592, lr: 0.00999\n",
      "iter: 7380, loss: 0.32201291084801087, lr: 0.00999\n",
      "iter: 7400, loss: 0.32184513996637076, lr: 0.00999\n",
      "iter: 7420, loss: 0.32167826057075255, lr: 0.00999\n",
      "iter: 7440, loss: 0.3215122657766283, lr: 0.00999\n",
      "iter: 7460, loss: 0.3213471487701126, lr: 0.00999\n",
      "iter: 7480, loss: 0.32118290280705986, lr: 0.00999\n",
      "iter: 7500, loss: 0.32101952121217525, lr: 0.00999\n",
      "iter: 7520, loss: 0.3208569973781401, lr: 0.00999\n",
      "iter: 7540, loss: 0.3206953247647491, lr: 0.00999\n",
      "iter: 7560, loss: 0.3205344968980624, lr: 0.00999\n",
      "iter: 7580, loss: 0.32037450736956835, lr: 0.00999\n",
      "iter: 7600, loss: 0.32021534983536065, lr: 0.00999\n",
      "iter: 7620, loss: 0.3200570180153271, lr: 0.00999\n",
      "iter: 7640, loss: 0.31989950569235037, lr: 0.00999\n",
      "iter: 7660, loss: 0.31974280671152083, lr: 0.00999\n",
      "iter: 7680, loss: 0.3195869149793614, lr: 0.00999\n",
      "iter: 7700, loss: 0.3194318244630635, lr: 0.00999\n",
      "iter: 7720, loss: 0.31927752918973457, lr: 0.00999\n",
      "iter: 7740, loss: 0.3191240232456568, lr: 0.00999\n",
      "iter: 7760, loss: 0.31897130077555635, lr: 0.00999\n",
      "iter: 7780, loss: 0.3188193559818841, lr: 0.00999\n",
      "iter: 7800, loss: 0.3186681831241062, lr: 0.00999\n",
      "iter: 7820, loss: 0.3185177765180055, lr: 0.00999\n",
      "iter: 7840, loss: 0.3183681305349929, lr: 0.00999\n",
      "iter: 7860, loss: 0.31821923960142906, lr: 0.00999\n",
      "iter: 7880, loss: 0.31807109819795565, lr: 0.00999\n",
      "iter: 7900, loss: 0.3179237008588366, lr: 0.00999\n",
      "iter: 7920, loss: 0.3177770421713087, lr: 0.00999\n",
      "iter: 7940, loss: 0.31763111677494155, lr: 0.00999\n",
      "iter: 7960, loss: 0.31748591936100706, lr: 0.00999\n",
      "iter: 7980, loss: 0.31734144467185776, lr: 0.00999\n",
      "iter: 8000, loss: 0.3171976875003137, lr: 0.00999\n",
      "iter: 8020, loss: 0.31705464268905903, lr: 0.00999\n",
      "iter: 8040, loss: 0.31691230513004637, lr: 0.00999\n",
      "iter: 8060, loss: 0.3167706697639101, lr: 0.00999\n",
      "iter: 8080, loss: 0.31662973157938756, lr: 0.00999\n",
      "iter: 8100, loss: 0.31648948561274937, lr: 0.00999\n",
      "iter: 8120, loss: 0.3163499269472364, lr: 0.00999\n",
      "iter: 8140, loss: 0.31621105071250644, lr: 0.00999\n",
      "iter: 8160, loss: 0.3160728520840869, lr: 0.00999\n",
      "iter: 8180, loss: 0.3159353262828366, lr: 0.00999\n",
      "iter: 8200, loss: 0.3157984685744142, lr: 0.00999\n",
      "iter: 8220, loss: 0.3156622742687545, lr: 0.00999\n",
      "iter: 8240, loss: 0.31552673871955234, lr: 0.00999\n",
      "iter: 8260, loss: 0.3153918573237527, lr: 0.00999\n",
      "iter: 8280, loss: 0.3152576255210489, lr: 0.00999\n",
      "iter: 8300, loss: 0.31512403879338735, lr: 0.00999\n",
      "iter: 8320, loss: 0.3149910926644791, lr: 0.00999\n",
      "iter: 8340, loss: 0.3148587826993183, lr: 0.00999\n",
      "iter: 8360, loss: 0.314727104503707, lr: 0.00999\n",
      "iter: 8380, loss: 0.31459605372378685, lr: 0.00999\n",
      "iter: 8400, loss: 0.3144656260455773, lr: 0.00999\n",
      "iter: 8420, loss: 0.3143358171945193, lr: 0.00999\n",
      "iter: 8440, loss: 0.31420662293502627, lr: 0.00999\n",
      "iter: 8460, loss: 0.31407803907004067, lr: 0.00999\n",
      "iter: 8480, loss: 0.3139500614405965, lr: 0.00999\n",
      "iter: 8500, loss: 0.3138226859253882, lr: 0.00999\n",
      "iter: 8520, loss: 0.3136959084403445, lr: 0.00999\n",
      "iter: 8540, loss: 0.3135697249382094, lr: 0.00999\n",
      "iter: 8560, loss: 0.3134441314081274, lr: 0.00999\n",
      "iter: 8580, loss: 0.3133191238752352, lr: 0.00999\n",
      "iter: 8600, loss: 0.3131946984002582, lr: 0.00999\n",
      "iter: 8620, loss: 0.31307085107911364, lr: 0.00999\n",
      "iter: 8640, loss: 0.31294757804251716, lr: 0.00999\n",
      "iter: 8660, loss: 0.31282487545559656, lr: 0.00999\n",
      "iter: 8680, loss: 0.312702739517509, lr: 0.00999\n",
      "iter: 8700, loss: 0.3125811664610646, lr: 0.00999\n",
      "iter: 8720, loss: 0.3124601525523543, lr: 0.00999\n",
      "iter: 8740, loss: 0.3123396940903828, lr: 0.00999\n",
      "iter: 8760, loss: 0.3122197874067064, lr: 0.00999\n",
      "iter: 8780, loss: 0.31210042886507583, lr: 0.00999\n",
      "iter: 8800, loss: 0.3119816148610827, lr: 0.00999\n",
      "iter: 8820, loss: 0.3118633418218124, lr: 0.00999\n",
      "iter: 8840, loss: 0.31174560620550007, lr: 0.00999\n",
      "iter: 8860, loss: 0.3116284045011912, lr: 0.00999\n",
      "iter: 8880, loss: 0.31151173322840775, lr: 0.00999\n",
      "iter: 8900, loss: 0.31139558893681696, lr: 0.00999\n",
      "iter: 8920, loss: 0.3112799682059061, lr: 0.00999\n",
      "iter: 8940, loss: 0.3111648676446601, lr: 0.00999\n",
      "iter: 8960, loss: 0.3110502838912441, lr: 0.00999\n",
      "iter: 8980, loss: 0.3109362136126901, lr: 0.00999\n",
      "iter: 9000, loss: 0.31082265350458677, lr: 0.00999\n",
      "iter: 9020, loss: 0.3107096002907747, lr: 0.00999\n",
      "iter: 9040, loss: 0.31059705072304417, lr: 0.00999\n",
      "iter: 9060, loss: 0.3104850015808376, lr: 0.00999\n",
      "iter: 9080, loss: 0.3103734496709555, lr: 0.00999\n",
      "iter: 9100, loss: 0.31026239182726606, lr: 0.00999\n",
      "iter: 9120, loss: 0.3101518249104189, lr: 0.00999\n",
      "iter: 9140, loss: 0.31004174580756183, lr: 0.00999\n",
      "iter: 9160, loss: 0.30993215143206154, lr: 0.00999\n",
      "iter: 9180, loss: 0.309823038723228, lr: 0.00999\n",
      "iter: 9200, loss: 0.3097144046460415, lr: 0.00999\n",
      "iter: 9220, loss: 0.3096062461908844, lr: 0.00999\n",
      "iter: 9240, loss: 0.3094985603732752, lr: 0.00999\n",
      "iter: 9260, loss: 0.3093913442336063, lr: 0.00999\n",
      "iter: 9280, loss: 0.309284594836885, lr: 0.00999\n",
      "iter: 9300, loss: 0.3091783092724778, lr: 0.00999\n",
      "iter: 9320, loss: 0.30907248465385784, lr: 0.00999\n",
      "iter: 9340, loss: 0.3089671181183555, lr: 0.00999\n",
      "iter: 9360, loss: 0.3088622068269119, lr: 0.00999\n",
      "iter: 9380, loss: 0.30875774796383587, lr: 0.00999\n",
      "iter: 9400, loss: 0.30865373873656343, lr: 0.00999\n",
      "iter: 9420, loss: 0.30855017637542037, lr: 0.00999\n",
      "iter: 9440, loss: 0.30844705813338813, lr: 0.00999\n",
      "iter: 9460, loss: 0.30834438128587205, lr: 0.00999\n",
      "iter: 9480, loss: 0.3082421431304727, lr: 0.00999\n",
      "iter: 9500, loss: 0.3081403409867598, lr: 0.00999\n",
      "iter: 9520, loss: 0.3080389721960494, lr: 0.00999\n",
      "iter: 9540, loss: 0.30793803412118315, lr: 0.00999\n",
      "iter: 9560, loss: 0.3078375241463105, lr: 0.00999\n",
      "iter: 9580, loss: 0.3077374396766737, lr: 0.00999\n",
      "iter: 9600, loss: 0.3076377781383955, lr: 0.00999\n",
      "iter: 9620, loss: 0.3075385369782683, lr: 0.00999\n",
      "iter: 9640, loss: 0.30743971366354783, lr: 0.00999\n",
      "iter: 9660, loss: 0.3073413056817475, lr: 0.00999\n",
      "iter: 9680, loss: 0.30724331054043597, lr: 0.00999\n",
      "iter: 9700, loss: 0.30714572576703725, lr: 0.00999\n",
      "iter: 9720, loss: 0.3070485489086329, lr: 0.00999\n",
      "iter: 9740, loss: 0.306951777531767, lr: 0.00999\n",
      "iter: 9760, loss: 0.3068554092222525, lr: 0.00999\n",
      "iter: 9780, loss: 0.30675944158498136, lr: 0.00999\n",
      "iter: 9800, loss: 0.3066638722437356, lr: 0.00999\n",
      "iter: 9820, loss: 0.30656869884100074, lr: 0.00999\n",
      "iter: 9840, loss: 0.3064739190377826, lr: 0.00999\n",
      "iter: 9860, loss: 0.30637953051342504, lr: 0.00999\n",
      "iter: 9880, loss: 0.3062855309654303, lr: 0.00999\n",
      "iter: 9900, loss: 0.30619191810928126, lr: 0.00999\n",
      "iter: 9920, loss: 0.30609868967826603, lr: 0.00999\n",
      "iter: 9940, loss: 0.3060058434233046, lr: 0.00999\n",
      "iter: 9960, loss: 0.30591337711277744, lr: 0.00999\n",
      "iter: 9980, loss: 0.3058212885323555, lr: 0.00999\n"
     ]
    }
   ],
   "source": [
    "np.random.seed(0)\n",
    "\n",
    "# create some dummy data\n",
    "C1 = np.array([[0., -0.8], [1.5, 0.8]])\n",
    "C2 = np.array([[1., -0.7], [2., 0.7]])\n",
    "gauss1 = np.dot(np.random.randn(200, 2) + np.array([5, 3]), C1)\n",
    "gauss2 = np.dot(np.random.randn(200, 2) + np.array([1.5, 0]), C2)\n",
    "\n",
    "X = np.vstack([gauss1, gauss2])\n",
    "y = np.concatenate([np.ones(200, dtype=np.int32), np.zeros(200, dtype=np.int32)])[:, None]\n",
    "\n",
    "# plot_decision_boundary\n",
    "model = LogisticRegression().fit(X, y, lr_base=0.01, steps= 100000)\n"
   ]
  },
  {
   "cell_type": "code",
   "execution_count": 402,
   "metadata": {
    "collapsed": false
   },
   "outputs": [
    {
     "data": {
      "text/plain": [
       "[<matplotlib.lines.Line2D at 0x7f27530ccfd0>]"
      ]
     },
     "execution_count": 402,
     "metadata": {},
     "output_type": "execute_result"
    },
    {
     "data": {
      "image/png": "[encoded data removed]",
      "text/plain": [
       "<Figure size 576x432 with 1 Axes>"
      ]
     },
     "metadata": {
      "needs_background": "light"
     },
     "output_type": "display_data"
    }
   ],
   "source": [
    "\n",
    "xticks = model.w[0, 0]*np.linspace(-4, 8,100)#+ model.b[0, 0]\n",
    "yticks =(0.5 - model.w[0, 0]*np.linspace(-4, 8,100) - model.b[0, 0])/model.w[1, 0]\n",
    "\n",
    "plt.figure(figsize=(8, 6))\n",
    "\n",
    "plt.scatter(X[:,0], X[:,1], c=y[:, 0])\n",
    "axes = plt.gca()\n",
    "axes.set_xlim(-5, 8)\n",
    "axes.set_ylim(-11, 6)\n",
    "plt.xlabel(\"$x_1$\")\n",
    "plt.ylabel(\"$x_2$\")\n",
    "plt.plot(xticks, yticks)"
   ]
  },
  {
   "cell_type": "markdown",
   "metadata": {},
   "source": [
    "Визуализируем также с помощью трехмерного графика как изменяются предсказания модели в зависимости от точки пространства."
   ]
  },
  {
   "cell_type": "code",
   "execution_count": 403,
   "metadata": {
    "collapsed": false
   },
   "outputs": [
    {
     "data": {
      "text/plain": [
       "Text(0.5, 0, 'prob')"
      ]
     },
     "execution_count": 403,
     "metadata": {},
     "output_type": "execute_result"
    },
    {
     "data": {
      "image/png": "[encoded data removed]",
      "text/plain": [
       "<Figure size 432x288 with 1 Axes>"
      ]
     },
     "metadata": {
      "needs_background": "light"
     },
     "output_type": "display_data"
    }
   ],
   "source": [
    "xticks = np.linspace(X[:, 0].min(), X[:, 0].max(), 100)\n",
    "yticks = np.linspace(X[:, 1].min(), X[:, 1].max(), 100)\n",
    "\n",
    "pred = model.sigmoid(model.w[0, 0]*X[:, 0] + model.w[1, 0]*X[:, 1] + model.b[0, 0])\n",
    "\n",
    "xxx, yyy = np.meshgrid(xticks, yticks)\n",
    "zzz = model.sigmoid(model.w[0, 0]*xxx + model.w[1, 0]*yyy + model.b[0, 0])\n",
    "zticks = model.sigmoid(model.w[0, 0]*xxx + model.w[1, 0]*yyy + model.b[0, 0])\n",
    "\n",
    "\n",
    "fig = plt.figure(figsize=(6, 4))\n",
    "ax = Axes3D(fig, azim=-130, elev=20)\n",
    "\n",
    "ax.scatter(X[:,0], X[:,1], pred, c=y[:, 0])\n",
    "ax.plot_surface(xxx, yyy, zzz, alpha=0.5)\n",
    "ax.set_xlabel(\"$x_1$\")\n",
    "ax.set_ylabel(\"$x_2$\")\n",
    "ax.set_zlabel(\"prob\")"
   ]
  }
 ],
 "metadata": {
  "kernelspec": {
   "display_name": "Python 3",
   "language": "python",
   "name": "python3"
  },
  "language_info": {
   "codemirror_mode": {
    "name": "ipython",
    "version": 3
   },
   "file_extension": ".py",
   "mimetype": "text/x-python",
   "name": "python",
   "nbconvert_exporter": "python",
   "pygments_lexer": "ipython3",
   "version": "3.6.8"
  }
 },
 "nbformat": 4,
 "nbformat_minor": 2
}
